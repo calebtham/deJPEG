{
  "cells": [
    {
      "cell_type": "markdown",
      "metadata": {
        "id": "Fozq29H0e5jL"
      },
      "source": [
        "# JPEG Double Compression Detection\n",
        "\n",
        "In this notebook, we train and evaluate our proposed CNN detector to determine whether an image is\n",
        "uncompressed, single, or double compressed."
      ]
    },
    {
      "cell_type": "markdown",
      "metadata": {
        "id": "XKGtp7kJe5jP"
      },
      "source": [
        "## Acknowledgements\n",
        "Our model is based on Park et al.'s model in the paper: https://openaccess.thecvf.com/content_ECCV_2018/papers/Jin-Seok_Park_Double_JPEG_Detection_ECCV_2018_paper.pdf\n",
        "\n",
        "We make the model smaller, remove the JPEG quantization table requirement, and modify the network to also detect no JPEG compression."
      ]
    },
    {
      "cell_type": "markdown",
      "metadata": {
        "id": "sSNodC6ae5jQ"
      },
      "source": [
        "## Prepare Dataset"
      ]
    },
    {
      "cell_type": "markdown",
      "metadata": {
        "id": "w-H1NL5je5jQ"
      },
      "source": [
        "Import required libraries"
      ]
    },
    {
      "cell_type": "code",
      "execution_count": 1,
      "metadata": {
        "colab": {
          "base_uri": "https://localhost:8080/"
        },
        "id": "B5yE5IHKIwye",
        "outputId": "3e61df65-3fdc-4b89-b846-f34e37b8c5a2"
      },
      "outputs": [
        {
          "name": "stdout",
          "output_type": "stream",
          "text": [
            "Drive already mounted at /content/drive; to attempt to forcibly remount, call drive.mount(\"/content/drive\", force_remount=True).\n"
          ]
        }
      ],
      "source": [
        "import numpy as np\n",
        "import matplotlib.pyplot as plt\n",
        "import tensorflow as tf\n",
        "import math\n",
        "import tensorflow as tf\n",
        "from tensorflow.keras.models import Sequential\n",
        "from tensorflow.keras.layers import Dense, Flatten, Conv2D, MaxPool2D, Dropout, BatchNormalization\n",
        "from tensorflow.keras import regularizers\n",
        "from tensorflow.keras.callbacks import Callback, EarlyStopping, ModelCheckpoint\n",
        "import random\n",
        "from sklearn.model_selection import train_test_split\n",
        "from google.colab import drive\n",
        "\n",
        "# Mount Google Drive and set default path\n",
        "drive.mount('/content/drive')\n",
        "\n",
        "# IMPORTANT: Change this to your own path, ending with \"dataset/\"\n",
        "PATH = '/content/drive/MyDrive/dataset/'"
      ]
    },
    {
      "cell_type": "markdown",
      "metadata": {
        "id": "rpv29vxze5jS"
      },
      "source": [
        "Set random seed"
      ]
    },
    {
      "cell_type": "code",
      "execution_count": 2,
      "metadata": {
        "id": "-uMzpKswe5jT"
      },
      "outputs": [],
      "source": [
        "seed = 42\n",
        "tf.random.set_seed(seed)\n",
        "np.random.seed(seed)\n",
        "random.seed(seed)"
      ]
    },
    {
      "cell_type": "markdown",
      "metadata": {
        "id": "5muKr2_Ee5jT"
      },
      "source": [
        "Get training dataset (image partitions derived from the first 200 images of the dataset)"
      ]
    },
    {
      "cell_type": "code",
      "execution_count": 3,
      "metadata": {
        "id": "DN3RGgYZHcO9"
      },
      "outputs": [],
      "source": [
        "# Uncompressed images\n",
        "X_1 = np.load(PATH + f\"detector_npy/njpeg/noblockcnn200.npy\")\n",
        "X_1 = np.concatenate((X_1, X_1, X_1, X_1, X_1))\n",
        "\n",
        "# Single compressed images\n",
        "X_2 = np.load(PATH + f\"detector_npy/sjpeg10/singleblockcnn200.npy\")\n",
        "X_2 = np.concatenate(\n",
        "    (X_2, np.load(PATH + f\"detector_npy/sjpeg30/singleblockcnn200.npy\")))\n",
        "X_2 = np.concatenate(\n",
        "    (X_2, np.load(PATH + f\"detector_npy/sjpeg50/singleblockcnn200.npy\")))\n",
        "X_2 = np.concatenate(\n",
        "    (X_2, np.load(PATH + f\"detector_npy/sjpeg70/singleblockcnn200.npy\")))\n",
        "X_2 = np.concatenate(\n",
        "    (X_2, np.load(PATH + f\"detector_npy/sjpeg90/singleblockcnn200.npy\")))\n",
        "\n",
        "# Double compressed images\n",
        "X_3 = np.load(PATH + f\"detector_npy/djpeg5010/doubleblockcnn200.npy\")\n",
        "X_3 = np.concatenate(\n",
        "    (X_3, np.load(PATH + f\"detector_npy/djpeg5030/doubleblockcnn200.npy\")))\n",
        "X_3 = np.concatenate(\n",
        "    (X_3, np.load(PATH + f\"detector_npy/djpeg5050/doubleblockcnn200.npy\")))\n",
        "X_3 = np.concatenate(\n",
        "    (X_3, np.load(PATH + f\"detector_npy/djpeg5070/doubleblockcnn200.npy\")))\n",
        "X_3 = np.concatenate(\n",
        "    (X_3, np.load(PATH + f\"detector_npy/djpeg5090/doubleblockcnn200.npy\")))\n",
        "\n",
        "# Labels\n",
        "mapping = [\"Uncompressed\", \"Single compression\", \"Double compression\"]\n",
        "y = np.array([0] * len(X_1) + [1] * len(X_2) + [2] * len(X_3))\n",
        "\n",
        "X = np.concatenate((X_1, X_2))\n",
        "del X_1, X_2\n",
        "X = np.concatenate((X, X_3))\n",
        "del X_3"
      ]
    },
    {
      "cell_type": "markdown",
      "metadata": {
        "id": "mt2X36Xqe5jW"
      },
      "source": [
        "Get dataset training and validation data"
      ]
    },
    {
      "cell_type": "code",
      "execution_count": 4,
      "metadata": {
        "id": "4prNsPQQK3if"
      },
      "outputs": [],
      "source": [
        "y_train, y_val, X_train, X_val = train_test_split(\n",
        "    y, X, test_size=0.25, random_state=seed)\n",
        "    \n",
        "del X, y"
      ]
    },
    {
      "cell_type": "code",
      "execution_count": 5,
      "metadata": {
        "colab": {
          "base_uri": "https://localhost:8080/"
        },
        "id": "fnt0gW7DLYBP",
        "outputId": "ee70447c-16b6-4165-efb4-3f826c8aa301"
      },
      "outputs": [
        {
          "name": "stdout",
          "output_type": "stream",
          "text": [
            "(157583,) (157583, 120, 64, 1) (472747,) (472747, 120, 64, 1)\n",
            "['Uncompressed', 'Single compression', 'Double compression']\n"
          ]
        }
      ],
      "source": [
        "print(y_val.shape, X_val.shape, y_train.shape, X_train.shape)\n",
        "print(mapping)"
      ]
    },
    {
      "cell_type": "code",
      "execution_count": 6,
      "metadata": {
        "colab": {
          "base_uri": "https://localhost:8080/",
          "height": 430
        },
        "id": "JRtMyWoZLmgp",
        "outputId": "52e029fa-2261-42ea-ddb4-764485d20ce7"
      },
      "outputs": [
        {
          "data": {
            "image/png": "[encoded data removed]",
            "text/plain": [
              "<Figure size 640x480 with 1 Axes>"
            ]
          },
          "metadata": {},
          "output_type": "display_data"
        }
      ],
      "source": [
        "# Want to ensure that the training data is balanced\n",
        "frequency = np.bincount(y_train)\n",
        "plt.bar(mapping, frequency)\n",
        "plt.show()"
      ]
    },
    {
      "cell_type": "markdown",
      "metadata": {
        "id": "ki7q9G26e5jY"
      },
      "source": [
        "## Prepare the CNN"
      ]
    },
    {
      "cell_type": "markdown",
      "metadata": {
        "id": "s6C9UmlSe5jY"
      },
      "source": [
        "Define model"
      ]
    },
    {
      "cell_type": "code",
      "execution_count": 7,
      "metadata": {
        "colab": {
          "base_uri": "https://localhost:8080/"
        },
        "id": "s2kbUAdDLs1M",
        "outputId": "f95dc5c2-e921-47be-cf1a-1a96bafa6a12"
      },
      "outputs": [
        {
          "name": "stdout",
          "output_type": "stream",
          "text": [
            "Model: \"sequential\"\n",
            "_________________________________________________________________\n",
            " Layer (type)                Output Shape              Param #   \n",
            "=================================================================\n",
            " conv2d (Conv2D)             (None, 116, 60, 64)       1664      \n",
            "                                                                 \n",
            " batch_normalization (BatchN  (None, 116, 60, 64)      256       \n",
            " ormalization)                                                   \n",
            "                                                                 \n",
            " conv2d_1 (Conv2D)           (None, 112, 56, 64)       102464    \n",
            "                                                                 \n",
            " batch_normalization_1 (Batc  (None, 112, 56, 64)      256       \n",
            " hNormalization)                                                 \n",
            "                                                                 \n",
            " max_pooling2d (MaxPooling2D  (None, 56, 28, 64)       0         \n",
            " )                                                               \n",
            "                                                                 \n",
            " conv2d_2 (Conv2D)           (None, 52, 24, 128)       204928    \n",
            "                                                                 \n",
            " batch_normalization_2 (Batc  (None, 52, 24, 128)      512       \n",
            " hNormalization)                                                 \n",
            "                                                                 \n",
            " max_pooling2d_1 (MaxPooling  (None, 26, 12, 128)      0         \n",
            " 2D)                                                             \n",
            "                                                                 \n",
            " conv2d_3 (Conv2D)           (None, 22, 8, 256)        819456    \n",
            "                                                                 \n",
            " batch_normalization_3 (Batc  (None, 22, 8, 256)       1024      \n",
            " hNormalization)                                                 \n",
            "                                                                 \n",
            " max_pooling2d_2 (MaxPooling  (None, 11, 4, 256)       0         \n",
            " 2D)                                                             \n",
            "                                                                 \n",
            " flatten (Flatten)           (None, 11264)             0         \n",
            "                                                                 \n",
            " batch_normalization_4 (Batc  (None, 11264)            45056     \n",
            " hNormalization)                                                 \n",
            "                                                                 \n",
            " dense (Dense)               (None, 3)                 33795     \n",
            "                                                                 \n",
            "=================================================================\n",
            "Total params: 1,209,411\n",
            "Trainable params: 1,185,859\n",
            "Non-trainable params: 23,552\n",
            "_________________________________________________________________\n"
          ]
        }
      ],
      "source": [
        "# Create CNN model\n",
        "wd = 1e-5\n",
        "rate = 0.1\n",
        "\n",
        "model = Sequential([\n",
        "\n",
        "    # Block 1\n",
        "    Conv2D(64, kernel_regularizer=regularizers.l2(wd), kernel_size=5,\n",
        "           activation='relu', input_shape=(120, 64, 1)),\n",
        "    BatchNormalization(),\n",
        "    Conv2D(64, kernel_regularizer=regularizers.l2(wd), kernel_size=5,\n",
        "           activation='relu'),\n",
        "    BatchNormalization(),\n",
        "    MaxPool2D((2, 2)),\n",
        "\n",
        "    # Block 2\n",
        "    Conv2D(128, kernel_regularizer=regularizers.l2(wd), kernel_size=5,\n",
        "           activation='relu'),\n",
        "    BatchNormalization(),\n",
        "    MaxPool2D((2, 2)),\n",
        "\n",
        "    # Block 3\n",
        "    Conv2D(256, kernel_regularizer=regularizers.l2(wd), kernel_size=5,\n",
        "           activation='relu'),\n",
        "    BatchNormalization(),\n",
        "    MaxPool2D((2, 2)),\n",
        "\n",
        "    # Dense output\n",
        "    Flatten(),\n",
        "    BatchNormalization(),\n",
        "    Dense(3, activation='softmax')\n",
        "])\n",
        "\n",
        "model.summary()"
      ]
    },
    {
      "cell_type": "markdown",
      "metadata": {
        "id": "5FoA2S12e5jZ"
      },
      "source": [
        "Compile model"
      ]
    },
    {
      "cell_type": "code",
      "execution_count": 8,
      "metadata": {
        "id": "w1LOzuHILuxb"
      },
      "outputs": [],
      "source": [
        "# Compile the model\n",
        "model.compile(\n",
        "    optimizer=tf.keras.optimizers.Adam(1e-4), # Found that default learning rate is too large\n",
        "    loss='sparse_categorical_crossentropy',\n",
        "    metrics=[tf.keras.metrics.SparseCategoricalAccuracy()]\n",
        ")"
      ]
    },
    {
      "cell_type": "markdown",
      "metadata": {
        "id": "sHN6sPOoe5jZ"
      },
      "source": [
        "## Train the CNN"
      ]
    },
    {
      "cell_type": "markdown",
      "metadata": {
        "id": "mL5YYt8We5ja"
      },
      "source": [
        "Model training stops when it stops improving for 10 epochs or at the 60th epoch. The best model is saved, based on validation data."
      ]
    },
    {
      "cell_type": "code",
      "execution_count": 9,
      "metadata": {
        "colab": {
          "base_uri": "https://localhost:8080/"
        },
        "id": "8fIxUs2GLw6b",
        "outputId": "30ed6821-8ae9-4de4-c75b-5e5b2649cc64"
      },
      "outputs": [
        {
          "name": "stdout",
          "output_type": "stream",
          "text": [
            "Epoch 1/60\n",
            "924/924 [==============================] - ETA: 0s - loss: 0.3072 - sparse_categorical_accuracy: 0.8249"
          ]
        },
        {
          "name": "stderr",
          "output_type": "stream",
          "text": [
            "WARNING:absl:Found untraced functions such as _jit_compiled_convolution_op, _jit_compiled_convolution_op, _jit_compiled_convolution_op, _jit_compiled_convolution_op while saving (showing 4 of 4). These functions will not be directly callable after loading.\n"
          ]
        },
        {
          "name": "stdout",
          "output_type": "stream",
          "text": [
            "\b\b\b\b\b\b\b\b\b\b\b\b\b\b\b\b\b\b\b\b\b\b\b\b\b\b\b\b\b\b\b\b\b\b\b\b\b\b\b\b\b\b\b\b\b\b\b\b\b\b\b\b\b\b\b\b\b\b\b\b\b\b\b\b\b\b\b\b\b\b\b\b\b\b\b\b\b\b\b\b\b\b\b\b\b\b\b\b\b\b\b\b\b\b\b\b\b\b\b\b\b\b\b\r924/924 [==============================] - 126s 116ms/step - loss: 0.3072 - sparse_categorical_accuracy: 0.8249 - val_loss: 0.3402 - val_sparse_categorical_accuracy: 0.8182\n",
            "Epoch 2/60\n",
            "923/924 [============================>.] - ETA: 0s - loss: 0.2737 - sparse_categorical_accuracy: 0.8375"
          ]
        },
        {
          "name": "stderr",
          "output_type": "stream",
          "text": [
            "WARNING:absl:Found untraced functions such as _jit_compiled_convolution_op, _jit_compiled_convolution_op, _jit_compiled_convolution_op, _jit_compiled_convolution_op while saving (showing 4 of 4). These functions will not be directly callable after loading.\n"
          ]
        },
        {
          "name": "stdout",
          "output_type": "stream",
          "text": [
            "\b\b\b\b\b\b\b\b\b\b\b\b\b\b\b\b\b\b\b\b\b\b\b\b\b\b\b\b\b\b\b\b\b\b\b\b\b\b\b\b\b\b\b\b\b\b\b\b\b\b\b\b\b\b\b\b\b\b\b\b\b\b\b\b\b\b\b\b\b\b\b\b\b\b\b\b\b\b\b\b\b\b\b\b\b\b\b\b\b\b\b\b\b\b\b\b\b\b\b\b\b\b\b\r924/924 [==============================] - 96s 104ms/step - loss: 0.2737 - sparse_categorical_accuracy: 0.8375 - val_loss: 0.4095 - val_sparse_categorical_accuracy: 0.8187\n",
            "Epoch 3/60\n",
            "923/924 [============================>.] - ETA: 0s - loss: 0.2616 - sparse_categorical_accuracy: 0.8437"
          ]
        },
        {
          "name": "stderr",
          "output_type": "stream",
          "text": [
            "WARNING:absl:Found untraced functions such as _jit_compiled_convolution_op, _jit_compiled_convolution_op, _jit_compiled_convolution_op, _jit_compiled_convolution_op while saving (showing 4 of 4). These functions will not be directly callable after loading.\n"
          ]
        },
        {
          "name": "stdout",
          "output_type": "stream",
          "text": [
            "\b\b\b\b\b\b\b\b\b\b\b\b\b\b\b\b\b\b\b\b\b\b\b\b\b\b\b\b\b\b\b\b\b\b\b\b\b\b\b\b\b\b\b\b\b\b\b\b\b\b\b\b\b\b\b\b\b\b\b\b\b\b\b\b\b\b\b\b\b\b\b\b\b\b\b\b\b\b\b\b\b\b\b\b\b\b\b\b\b\b\b\b\b\b\b\b\b\b\b\b\b\b\b\r924/924 [==============================] - 96s 104ms/step - loss: 0.2617 - sparse_categorical_accuracy: 0.8437 - val_loss: 0.3573 - val_sparse_categorical_accuracy: 0.8299\n",
            "Epoch 4/60\n",
            "923/924 [============================>.] - ETA: 0s - loss: 0.2530 - sparse_categorical_accuracy: 0.8476"
          ]
        },
        {
          "name": "stderr",
          "output_type": "stream",
          "text": [
            "WARNING:absl:Found untraced functions such as _jit_compiled_convolution_op, _jit_compiled_convolution_op, _jit_compiled_convolution_op, _jit_compiled_convolution_op while saving (showing 4 of 4). These functions will not be directly callable after loading.\n"
          ]
        },
        {
          "name": "stdout",
          "output_type": "stream",
          "text": [
            "\b\b\b\b\b\b\b\b\b\b\b\b\b\b\b\b\b\b\b\b\b\b\b\b\b\b\b\b\b\b\b\b\b\b\b\b\b\b\b\b\b\b\b\b\b\b\b\b\b\b\b\b\b\b\b\b\b\b\b\b\b\b\b\b\b\b\b\b\b\b\b\b\b\b\b\b\b\b\b\b\b\b\b\b\b\b\b\b\b\b\b\b\b\b\b\b\b\b\b\b\b\b\b\r924/924 [==============================] - 96s 104ms/step - loss: 0.2530 - sparse_categorical_accuracy: 0.8476 - val_loss: 0.2757 - val_sparse_categorical_accuracy: 0.8448\n",
            "Epoch 5/60\n",
            "924/924 [==============================] - 93s 101ms/step - loss: 0.2483 - sparse_categorical_accuracy: 0.8506 - val_loss: 0.5941 - val_sparse_categorical_accuracy: 0.8245\n",
            "Epoch 6/60\n",
            "924/924 [==============================] - 94s 101ms/step - loss: 0.2424 - sparse_categorical_accuracy: 0.8529 - val_loss: 0.3997 - val_sparse_categorical_accuracy: 0.8236\n",
            "Epoch 7/60\n",
            "924/924 [==============================] - 94s 101ms/step - loss: 0.2373 - sparse_categorical_accuracy: 0.8559 - val_loss: 0.4658 - val_sparse_categorical_accuracy: 0.8184\n",
            "Epoch 8/60\n",
            "923/924 [============================>.] - ETA: 0s - loss: 0.2342 - sparse_categorical_accuracy: 0.8573"
          ]
        },
        {
          "name": "stderr",
          "output_type": "stream",
          "text": [
            "WARNING:absl:Found untraced functions such as _jit_compiled_convolution_op, _jit_compiled_convolution_op, _jit_compiled_convolution_op, _jit_compiled_convolution_op while saving (showing 4 of 4). These functions will not be directly callable after loading.\n"
          ]
        },
        {
          "name": "stdout",
          "output_type": "stream",
          "text": [
            "\b\b\b\b\b\b\b\b\b\b\b\b\b\b\b\b\b\b\b\b\b\b\b\b\b\b\b\b\b\b\b\b\b\b\b\b\b\b\b\b\b\b\b\b\b\b\b\b\b\b\b\b\b\b\b\b\b\b\b\b\b\b\b\b\b\b\b\b\b\b\b\b\b\b\b\b\b\b\b\b\b\b\b\b\b\b\b\b\b\b\b\b\b\b\b\b\b\b\b\b\b\b\b\r924/924 [==============================] - 96s 104ms/step - loss: 0.2342 - sparse_categorical_accuracy: 0.8573 - val_loss: 0.3241 - val_sparse_categorical_accuracy: 0.8474\n",
            "Epoch 9/60\n",
            "923/924 [============================>.] - ETA: 0s - loss: 0.2309 - sparse_categorical_accuracy: 0.8587"
          ]
        },
        {
          "name": "stderr",
          "output_type": "stream",
          "text": [
            "WARNING:absl:Found untraced functions such as _jit_compiled_convolution_op, _jit_compiled_convolution_op, _jit_compiled_convolution_op, _jit_compiled_convolution_op while saving (showing 4 of 4). These functions will not be directly callable after loading.\n"
          ]
        },
        {
          "name": "stdout",
          "output_type": "stream",
          "text": [
            "\b\b\b\b\b\b\b\b\b\b\b\b\b\b\b\b\b\b\b\b\b\b\b\b\b\b\b\b\b\b\b\b\b\b\b\b\b\b\b\b\b\b\b\b\b\b\b\b\b\b\b\b\b\b\b\b\b\b\b\b\b\b\b\b\b\b\b\b\b\b\b\b\b\b\b\b\b\b\b\b\b\b\b\b\b\b\b\b\b\b\b\b\b\b\b\b\b\b\b\b\b\b\b\r924/924 [==============================] - 96s 104ms/step - loss: 0.2309 - sparse_categorical_accuracy: 0.8587 - val_loss: 0.3071 - val_sparse_categorical_accuracy: 0.8509\n",
            "Epoch 10/60\n",
            "924/924 [==============================] - 94s 101ms/step - loss: 0.2284 - sparse_categorical_accuracy: 0.8605 - val_loss: 0.2899 - val_sparse_categorical_accuracy: 0.8450\n",
            "Epoch 11/60\n",
            "924/924 [==============================] - 93s 101ms/step - loss: 0.2274 - sparse_categorical_accuracy: 0.8614 - val_loss: 0.3196 - val_sparse_categorical_accuracy: 0.8459\n",
            "Epoch 12/60\n",
            "924/924 [==============================] - 94s 101ms/step - loss: 0.2241 - sparse_categorical_accuracy: 0.8629 - val_loss: 0.2574 - val_sparse_categorical_accuracy: 0.8508\n",
            "Epoch 13/60\n",
            "924/924 [==============================] - 93s 101ms/step - loss: 0.2223 - sparse_categorical_accuracy: 0.8637 - val_loss: 1.4578 - val_sparse_categorical_accuracy: 0.7320\n",
            "Epoch 14/60\n",
            "924/924 [==============================] - 93s 101ms/step - loss: 0.2205 - sparse_categorical_accuracy: 0.8655 - val_loss: 0.8121 - val_sparse_categorical_accuracy: 0.8221\n",
            "Epoch 15/60\n",
            "924/924 [==============================] - 94s 101ms/step - loss: 0.2184 - sparse_categorical_accuracy: 0.8659 - val_loss: 0.4433 - val_sparse_categorical_accuracy: 0.8398\n",
            "Epoch 16/60\n",
            "924/924 [==============================] - 93s 101ms/step - loss: 0.2166 - sparse_categorical_accuracy: 0.8667 - val_loss: 0.2711 - val_sparse_categorical_accuracy: 0.8358\n",
            "Epoch 17/60\n",
            "924/924 [==============================] - 94s 101ms/step - loss: 0.2152 - sparse_categorical_accuracy: 0.8674 - val_loss: 0.3795 - val_sparse_categorical_accuracy: 0.8366\n",
            "Epoch 18/60\n",
            "923/924 [============================>.] - ETA: 0s - loss: 0.2140 - sparse_categorical_accuracy: 0.8685"
          ]
        },
        {
          "name": "stderr",
          "output_type": "stream",
          "text": [
            "WARNING:absl:Found untraced functions such as _jit_compiled_convolution_op, _jit_compiled_convolution_op, _jit_compiled_convolution_op, _jit_compiled_convolution_op while saving (showing 4 of 4). These functions will not be directly callable after loading.\n"
          ]
        },
        {
          "name": "stdout",
          "output_type": "stream",
          "text": [
            "\b\b\b\b\b\b\b\b\b\b\b\b\b\b\b\b\b\b\b\b\b\b\b\b\b\b\b\b\b\b\b\b\b\b\b\b\b\b\b\b\b\b\b\b\b\b\b\b\b\b\b\b\b\b\b\b\b\b\b\b\b\b\b\b\b\b\b\b\b\b\b\b\b\b\b\b\b\b\b\b\b\b\b\b\b\b\b\b\b\b\b\b\b\b\b\b\b\b\b\b\b\b\b\r924/924 [==============================] - 96s 104ms/step - loss: 0.2140 - sparse_categorical_accuracy: 0.8685 - val_loss: 0.2536 - val_sparse_categorical_accuracy: 0.8554\n",
            "Epoch 19/60\n",
            "924/924 [==============================] - 94s 101ms/step - loss: 0.2126 - sparse_categorical_accuracy: 0.8694 - val_loss: 0.3013 - val_sparse_categorical_accuracy: 0.8502\n",
            "Epoch 20/60\n",
            "924/924 [==============================] - 94s 101ms/step - loss: 0.2112 - sparse_categorical_accuracy: 0.8699 - val_loss: 0.3166 - val_sparse_categorical_accuracy: 0.8437\n",
            "Epoch 21/60\n",
            "923/924 [============================>.] - ETA: 0s - loss: 0.2095 - sparse_categorical_accuracy: 0.8711"
          ]
        },
        {
          "name": "stderr",
          "output_type": "stream",
          "text": [
            "WARNING:absl:Found untraced functions such as _jit_compiled_convolution_op, _jit_compiled_convolution_op, _jit_compiled_convolution_op, _jit_compiled_convolution_op while saving (showing 4 of 4). These functions will not be directly callable after loading.\n"
          ]
        },
        {
          "name": "stdout",
          "output_type": "stream",
          "text": [
            "\b\b\b\b\b\b\b\b\b\b\b\b\b\b\b\b\b\b\b\b\b\b\b\b\b\b\b\b\b\b\b\b\b\b\b\b\b\b\b\b\b\b\b\b\b\b\b\b\b\b\b\b\b\b\b\b\b\b\b\b\b\b\b\b\b\b\b\b\b\b\b\b\b\b\b\b\b\b\b\b\b\b\b\b\b\b\b\b\b\b\b\b\b\b\b\b\b\b\b\b\b\b\b\r924/924 [==============================] - 96s 104ms/step - loss: 0.2096 - sparse_categorical_accuracy: 0.8711 - val_loss: 0.2438 - val_sparse_categorical_accuracy: 0.8565\n",
            "Epoch 22/60\n",
            "924/924 [==============================] - 94s 101ms/step - loss: 0.2085 - sparse_categorical_accuracy: 0.8721 - val_loss: 0.5042 - val_sparse_categorical_accuracy: 0.8368\n",
            "Epoch 23/60\n",
            "924/924 [==============================] - 94s 101ms/step - loss: 0.2080 - sparse_categorical_accuracy: 0.8727 - val_loss: 0.9022 - val_sparse_categorical_accuracy: 0.7599\n",
            "Epoch 24/60\n",
            "924/924 [==============================] - 93s 101ms/step - loss: 0.2067 - sparse_categorical_accuracy: 0.8729 - val_loss: 0.5942 - val_sparse_categorical_accuracy: 0.8138\n",
            "Epoch 25/60\n",
            "924/924 [==============================] - 93s 101ms/step - loss: 0.2055 - sparse_categorical_accuracy: 0.8734 - val_loss: 0.2475 - val_sparse_categorical_accuracy: 0.8565\n",
            "Epoch 26/60\n",
            "923/924 [============================>.] - ETA: 0s - loss: 0.2041 - sparse_categorical_accuracy: 0.8748"
          ]
        },
        {
          "name": "stderr",
          "output_type": "stream",
          "text": [
            "WARNING:absl:Found untraced functions such as _jit_compiled_convolution_op, _jit_compiled_convolution_op, _jit_compiled_convolution_op, _jit_compiled_convolution_op while saving (showing 4 of 4). These functions will not be directly callable after loading.\n"
          ]
        },
        {
          "name": "stdout",
          "output_type": "stream",
          "text": [
            "\b\b\b\b\b\b\b\b\b\b\b\b\b\b\b\b\b\b\b\b\b\b\b\b\b\b\b\b\b\b\b\b\b\b\b\b\b\b\b\b\b\b\b\b\b\b\b\b\b\b\b\b\b\b\b\b\b\b\b\b\b\b\b\b\b\b\b\b\b\b\b\b\b\b\b\b\b\b\b\b\b\b\b\b\b\b\b\b\b\b\b\b\b\b\b\b\b\b\b\b\b\b\b\r924/924 [==============================] - 96s 104ms/step - loss: 0.2041 - sparse_categorical_accuracy: 0.8748 - val_loss: 0.2313 - val_sparse_categorical_accuracy: 0.8583\n",
            "Epoch 27/60\n",
            "924/924 [==============================] - 93s 101ms/step - loss: 0.2035 - sparse_categorical_accuracy: 0.8753 - val_loss: 0.2567 - val_sparse_categorical_accuracy: 0.8535\n",
            "Epoch 28/60\n",
            "924/924 [==============================] - 94s 101ms/step - loss: 0.2020 - sparse_categorical_accuracy: 0.8760 - val_loss: 0.3847 - val_sparse_categorical_accuracy: 0.8545\n",
            "Epoch 29/60\n",
            "924/924 [==============================] - 93s 101ms/step - loss: 0.2010 - sparse_categorical_accuracy: 0.8771 - val_loss: 0.2479 - val_sparse_categorical_accuracy: 0.8521\n",
            "Epoch 30/60\n",
            "924/924 [==============================] - 93s 101ms/step - loss: 0.1998 - sparse_categorical_accuracy: 0.8782 - val_loss: 7.2132 - val_sparse_categorical_accuracy: 0.5209\n",
            "Epoch 31/60\n",
            "924/924 [==============================] - 94s 101ms/step - loss: 0.1982 - sparse_categorical_accuracy: 0.8796 - val_loss: 0.4073 - val_sparse_categorical_accuracy: 0.8487\n",
            "Epoch 32/60\n",
            "924/924 [==============================] - 94s 101ms/step - loss: 0.1970 - sparse_categorical_accuracy: 0.8801 - val_loss: 0.8083 - val_sparse_categorical_accuracy: 0.7736\n",
            "Epoch 33/60\n",
            "924/924 [==============================] - 93s 101ms/step - loss: 0.1968 - sparse_categorical_accuracy: 0.8798 - val_loss: 7.1704 - val_sparse_categorical_accuracy: 0.5427\n",
            "Epoch 34/60\n",
            "924/924 [==============================] - 93s 101ms/step - loss: 0.1949 - sparse_categorical_accuracy: 0.8809 - val_loss: 0.3515 - val_sparse_categorical_accuracy: 0.8502\n",
            "Epoch 35/60\n",
            "924/924 [==============================] - 94s 101ms/step - loss: 0.1936 - sparse_categorical_accuracy: 0.8826 - val_loss: 0.4723 - val_sparse_categorical_accuracy: 0.8459\n",
            "Epoch 36/60\n",
            "924/924 [==============================] - 94s 101ms/step - loss: 0.1931 - sparse_categorical_accuracy: 0.8826 - val_loss: 0.2924 - val_sparse_categorical_accuracy: 0.8501\n",
            "Epoch 37/60\n",
            "924/924 [==============================] - 94s 101ms/step - loss: 0.1919 - sparse_categorical_accuracy: 0.8841 - val_loss: 0.2431 - val_sparse_categorical_accuracy: 0.8519\n",
            "Epoch 38/60\n",
            "924/924 [==============================] - 94s 101ms/step - loss: 0.1903 - sparse_categorical_accuracy: 0.8847 - val_loss: 0.2691 - val_sparse_categorical_accuracy: 0.8514\n",
            "Epoch 39/60\n",
            "924/924 [==============================] - 94s 101ms/step - loss: 0.1892 - sparse_categorical_accuracy: 0.8854 - val_loss: 0.4312 - val_sparse_categorical_accuracy: 0.8467\n",
            "Epoch 40/60\n",
            "924/924 [==============================] - 94s 101ms/step - loss: 0.1886 - sparse_categorical_accuracy: 0.8854 - val_loss: 0.2924 - val_sparse_categorical_accuracy: 0.8498\n",
            "Epoch 41/60\n",
            "924/924 [==============================] - 93s 101ms/step - loss: 0.1874 - sparse_categorical_accuracy: 0.8871 - val_loss: 0.6358 - val_sparse_categorical_accuracy: 0.8177\n",
            "Epoch 42/60\n",
            "924/924 [==============================] - 94s 101ms/step - loss: 0.1866 - sparse_categorical_accuracy: 0.8867 - val_loss: 0.3154 - val_sparse_categorical_accuracy: 0.8515\n",
            "Epoch 43/60\n",
            "924/924 [==============================] - 93s 101ms/step - loss: 0.1856 - sparse_categorical_accuracy: 0.8880 - val_loss: 0.5253 - val_sparse_categorical_accuracy: 0.8222\n",
            "Epoch 44/60\n",
            "924/924 [==============================] - 93s 101ms/step - loss: 0.1844 - sparse_categorical_accuracy: 0.8891 - val_loss: 0.3571 - val_sparse_categorical_accuracy: 0.8481\n",
            "Epoch 45/60\n",
            "924/924 [==============================] - 93s 101ms/step - loss: 0.1837 - sparse_categorical_accuracy: 0.8892 - val_loss: 0.2875 - val_sparse_categorical_accuracy: 0.8455\n",
            "Epoch 46/60\n",
            "924/924 [==============================] - 94s 101ms/step - loss: 0.1827 - sparse_categorical_accuracy: 0.8901 - val_loss: 0.3517 - val_sparse_categorical_accuracy: 0.8521\n"
          ]
        }
      ],
      "source": [
        "# Train model with early stopping and model checkpoint callbacks\n",
        "history = model.fit(\n",
        "    X_train,\n",
        "    y_train,\n",
        "    epochs=60,\n",
        "    batch_size=512,\n",
        "    validation_data=(X_val, y_val),\n",
        "    verbose=1,\n",
        "    callbacks=[\n",
        "        EarlyStopping(monitor='val_sparse_categorical_accuracy', patience=20),\n",
        "        ModelCheckpoint(\n",
        "            filepath='CNNmodel', monitor='val_sparse_categorical_accuracy', save_best_only=True)\n",
        "    ]\n",
        ")"
      ]
    },
    {
      "cell_type": "markdown",
      "metadata": {
        "id": "lpAllnjXe5ja"
      },
      "source": [
        "Plot training history"
      ]
    },
    {
      "cell_type": "code",
      "execution_count": 10,
      "metadata": {
        "colab": {
          "base_uri": "https://localhost:8080/",
          "height": 472
        },
        "id": "COh7WeqcL72c",
        "outputId": "0a44bfa1-7e8b-4e92-9e86-f63d3ed69479"
      },
      "outputs": [
        {
          "data": {
            "image/png": "[encoded data removed]",
            "text/plain": [
              "<Figure size 640x480 with 1 Axes>"
            ]
          },
          "metadata": {},
          "output_type": "display_data"
        }
      ],
      "source": [
        "# Make a plot for the loss\n",
        "plt.plot(history.history['loss'])\n",
        "plt.plot(history.history['val_loss'])\n",
        "plt.title('Loss vs. Epochs')\n",
        "plt.ylabel('Loss')\n",
        "plt.xlabel('Epoch')\n",
        "plt.legend(['Training Loss', 'Validation Loss'], loc='upper right')\n",
        "plt.show()"
      ]
    },
    {
      "cell_type": "code",
      "execution_count": 11,
      "metadata": {
        "colab": {
          "base_uri": "https://localhost:8080/",
          "height": 472
        },
        "id": "w4K4J9c8L9qt",
        "outputId": "ee3a5569-f9d9-4ef9-c960-364aec74a822"
      },
      "outputs": [
        {
          "data": {
            "image/png": "[encoded data removed]",
            "text/plain": [
              "<Figure size 640x480 with 1 Axes>"
            ]
          },
          "metadata": {},
          "output_type": "display_data"
        }
      ],
      "source": [
        "# Make a plot for the accuracy\n",
        "plt.plot(history.history['sparse_categorical_accuracy'])\n",
        "plt.plot(history.history['val_sparse_categorical_accuracy'])\n",
        "plt.title('Accuracy vs. Epochs')\n",
        "plt.ylabel('Accuracy')\n",
        "plt.xlabel('Epoch')\n",
        "plt.legend(['Training Accuracy', 'Validation Accuracy'], loc='lower right')\n",
        "plt.show()"
      ]
    },
    {
      "cell_type": "markdown",
      "metadata": {
        "id": "E37mtid4e5jb"
      },
      "source": [
        "## Evaluate the CNN"
      ]
    },
    {
      "cell_type": "markdown",
      "metadata": {
        "id": "OZSjnwche5jb"
      },
      "source": [
        "Get best model"
      ]
    },
    {
      "cell_type": "code",
      "execution_count": 13,
      "metadata": {
        "id": "2PqFIbL525BC"
      },
      "outputs": [],
      "source": [
        "# Load best model from file\n",
        "model = tf.keras.models.load_model('CNNmodel')"
      ]
    },
    {
      "cell_type": "markdown",
      "metadata": {
        "id": "PBFW7t3Oe5jc"
      },
      "source": [
        "Get test data (image partitions are derived from the 200th - 400th images of the dataset)"
      ]
    },
    {
      "cell_type": "code",
      "execution_count": 18,
      "metadata": {
        "id": "VK-jqY--mxj3"
      },
      "outputs": [],
      "source": [
        "# Test data\n",
        "X = {}\n",
        "X['no'] = np.load(PATH + f\"detector_npy/njpeg/noblockcnn400.npy\")\n",
        "\n",
        "X['single'] = {}\n",
        "X['double'] = {}\n",
        "for QF in range(10, 100, 20):\n",
        "    X['single'][str(QF)] = np.load(\n",
        "        PATH + f\"detector_npy/sjpeg{QF}/singleblockcnn400.npy\")\n",
        "    X['double'][str(QF)] = np.load(\n",
        "        PATH + f\"detector_npy/djpeg50{QF}/doubleblockcnn400.npy\")"
      ]
    },
    {
      "attachments": {},
      "cell_type": "markdown",
      "metadata": {
        "id": "KQQxMgbVe5jc"
      },
      "source": [
        "Evaluate the test loss and accuracy for each compression type"
      ]
    },
    {
      "cell_type": "code",
      "execution_count": 19,
      "metadata": {
        "colab": {
          "base_uri": "https://localhost:8080/"
        },
        "id": "oaWMjGifZIRn",
        "outputId": "ddc0a6c6-8916-409a-bbd8-fe11f9092cb8"
      },
      "outputs": [
        {
          "name": "stdout",
          "output_type": "stream",
          "text": [
            "No 0.04243192449212074 0.9849989414215088\n",
            "Single 10 0.9700430035591125 0.07696801424026489\n",
            "Single 30 0.26640820503234863 0.8215762972831726\n",
            "Single 50 0.843832790851593 0.360580176115036\n",
            "Single 70 0.03444141522049904 0.9737831950187683\n",
            "Single 90 0.021884148940443993 0.9847419261932373\n",
            "Double 10 0.5223484635353088 0.951047956943512\n",
            "Double 30 0.14202827215194702 0.9537584185600281\n",
            "Double 50 0.4418136477470398 0.8585882186889648\n",
            "Double 70 0.05280162766575813 0.9968456029891968\n",
            "Double 90 0.0521143302321434 0.9980605840682983\n"
          ]
        }
      ],
      "source": [
        "# Evaluate the model\n",
        "\n",
        "# no compression\n",
        "y = np.array([0] * len(X['no']))\n",
        "test_loss, test_acc = model.evaluate(X['no'], y, verbose=0)\n",
        "print(\"No\", test_loss, test_acc)\n",
        "\n",
        "# single compression\n",
        "y = np.array([1] * 50000)\n",
        "for QF in range(10, 100, 20):\n",
        "    test_loss, test_acc = model.evaluate(\n",
        "        X['single'][str(QF)], y[:len(X['single'][str(QF)])], verbose=0)\n",
        "    print(\"Single\", QF, test_loss, test_acc)\n",
        "\n",
        "# double compression\n",
        "y = np.array([2] * 50000)\n",
        "for QF in range(10, 100, 20):\n",
        "    test_loss, test_acc = model.evaluate(\n",
        "        X['double'][str(QF)], y[:len(X['double'][str(QF)])], verbose=0)\n",
        "    print(\"Double\", QF, test_loss, test_acc)"
      ]
    }
  ],
  "metadata": {
    "accelerator": "GPU",
    "colab": {
      "machine_shape": "hm",
      "provenance": []
    },
    "gpuClass": "premium",
    "kernelspec": {
      "display_name": "Python 3.9.10 64-bit",
      "language": "python",
      "name": "python3"
    },
    "language_info": {
      "name": "python",
      "version": "3.9.10 (v3.9.10:f2f3f53782, Jan 13 2022, 16:55:46) \n[Clang 13.0.0 (clang-1300.0.29.30)]"
    },
    "vscode": {
      "interpreter": {
        "hash": "aee8b7b246df8f9039afb4144a1f6fd8d2ca17a180786b69acc140d282b71a49"
      }
    }
  },
  "nbformat": 4,
  "nbformat_minor": 0
}
